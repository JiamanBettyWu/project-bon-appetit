{
 "cells": [
  {
   "cell_type": "markdown",
   "metadata": {},
   "source": [
    "## Project Proposal \n",
    "\n",
    "## Topic\n",
    "\n",
    "With modern technology, food becomes abundant and people’s perception of food changes rapidly; it has become an enjoyment than a necessity. Consumers’ eating behaviors are susceptible to scientific discoveries and commercial marketing decisions. \n",
    "\n",
    "Therefore, in this project, we are interested in recent food trends from 2017 to 2018. First, we want to know the general trends in the food industry, such as the rise of functional food and healthy food in recent years. Then, we will identify dishes/food themes that have sustained popularity, seasonal popularity, or rising popularity. From these categories, we will identify the top five popular food for a more thorough analysis. For each of the five food, we will focus on several aspects: how the volume of mention changes over time (year, month, week), geographical variations, and analysis on the underlying trend to explain why this particular food is popular. \n",
    "\n",
    "This project would provide useful information on food marketing. Knowing food trends can help restaurants and food suppliers make more informed business decisions. \n",
    "\n",
    "\n",
    "## Data Description\n",
    "\n",
    "We first use magazine APIs to identify several potential food trends, which will be further analyzed by using other types of data. There are several types of potentially useful data we will use: Google Search Trends, well-established news sources, social media, and supermarket sales records. News sources, such as The New York Times, provide credible and reliable information. Social media, on the other hand, is more accessible to everyone and is sensitive to emerging food trends. Additionally, we use supermarket sales data to verify potential trends. By combining these perspectives, we hope to reach a conclusion that is both inclusive and objective. \n",
    "\n",
    "\n",
    "### Data Sources\n",
    "\n",
    "[Google trend data](https://trends.google.com/trends/?geo=US)\n",
    "\n",
    "[The New York Times API](https://developers.nytimes.com/)\n",
    "\n",
    "[Washington Post API](https://newsapi.org/docs/get-started)\n",
    "\n",
    "[Supermarket API](https://www.programmableweb.com/api/supermarket)\n",
    "\n",
    "\n",
    "## Challenges \n",
    "\n",
    "Data from newspapers and supermarkets are readily accessible by APIs. However, how to identify food trends from repetitive appearance of keywords is quite challenging. Also, getting useful data from social media can be problematic. The problem lies in how to be inclusive of all trends,and at the same time, be able to filter out the irreverent information. Our potential solutions to this problem are: refine our search results (from Instagram) by using hashtags; and place more weight on food bloggers. \n"
   ]
  }
 ],
 "metadata": {
  "kernelspec": {
   "display_name": "Python 3",
   "language": "python",
   "name": "python3"
  },
  "language_info": {
   "codemirror_mode": {
    "name": "ipython",
    "version": 3
   },
   "file_extension": ".py",
   "mimetype": "text/x-python",
   "name": "python",
   "nbconvert_exporter": "python",
   "pygments_lexer": "ipython3",
   "version": "3.6.8"
  }
 },
 "nbformat": 4,
 "nbformat_minor": 2
}
