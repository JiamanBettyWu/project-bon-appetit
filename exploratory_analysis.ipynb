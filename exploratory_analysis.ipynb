This is the document for exploratory analysis for the final project 
